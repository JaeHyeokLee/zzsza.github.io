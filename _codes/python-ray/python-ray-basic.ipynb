{
 "cells": [
  {
   "cell_type": "code",
   "execution_count": 1,
   "metadata": {},
   "outputs": [],
   "source": [
    "!pip install ray"
   ]
  },
  {
   "cell_type": "code",
   "execution_count": 1,
   "metadata": {},
   "outputs": [
    {
     "name": "stdout",
     "output_type": "stream",
     "text": [
      "1.0.1.post1\n"
     ]
    }
   ],
   "source": [
    "import ray\n",
    "import datetime\n",
    "import time\n",
    "\n",
    "print(ray.__version__)"
   ]
  },
  {
   "cell_type": "markdown",
   "metadata": {},
   "source": [
    "### 일반 파이썬 함수 호출"
   ]
  },
  {
   "cell_type": "code",
   "execution_count": 2,
   "metadata": {},
   "outputs": [],
   "source": [
    "def print_current_datetime():\n",
    "    time.sleep(0.3)\n",
    "    current_datetime = datetime.datetime.now()\n",
    "    print(current_datetime)\n",
    "    return current_datetime"
   ]
  },
  {
   "cell_type": "code",
   "execution_count": 3,
   "metadata": {},
   "outputs": [
    {
     "name": "stdout",
     "output_type": "stream",
     "text": [
      "2021-01-03 16:19:33.243345\n"
     ]
    },
    {
     "data": {
      "text/plain": [
       "datetime.datetime(2021, 1, 3, 16, 19, 33, 243345)"
      ]
     },
     "execution_count": 3,
     "metadata": {},
     "output_type": "execute_result"
    }
   ],
   "source": [
    "print_current_datetime()"
   ]
  },
  {
   "cell_type": "markdown",
   "metadata": {},
   "source": [
    "### Ray Task"
   ]
  },
  {
   "cell_type": "code",
   "execution_count": 4,
   "metadata": {},
   "outputs": [
    {
     "name": "stderr",
     "output_type": "stream",
     "text": [
      "2021-01-03 16:19:34,520\tINFO services.py:1090 -- View the Ray dashboard at \u001b[1m\u001b[32mhttp://127.0.0.1:8265\u001b[39m\u001b[22m\n"
     ]
    },
    {
     "data": {
      "text/plain": [
       "{'node_ip_address': '192.168.25.44',\n",
       " 'raylet_ip_address': '192.168.25.44',\n",
       " 'redis_address': '192.168.25.44:6379',\n",
       " 'object_store_address': '/tmp/ray/session_2021-01-03_16-19-33_988130_48429/sockets/plasma_store',\n",
       " 'raylet_socket_name': '/tmp/ray/session_2021-01-03_16-19-33_988130_48429/sockets/raylet',\n",
       " 'webui_url': '127.0.0.1:8265',\n",
       " 'session_dir': '/tmp/ray/session_2021-01-03_16-19-33_988130_48429',\n",
       " 'metrics_export_port': 60616,\n",
       " 'node_id': '059184fefb663442031be3e7b1976bd6abbaf4c1'}"
      ]
     },
     "execution_count": 4,
     "metadata": {},
     "output_type": "execute_result"
    }
   ],
   "source": [
    "ray.init()"
   ]
  },
  {
   "cell_type": "code",
   "execution_count": 5,
   "metadata": {},
   "outputs": [],
   "source": [
    "@ray.remote\n",
    "def print_current_datetime():\n",
    "    time.sleep(0.3)\n",
    "    current_datetime = datetime.datetime.now()\n",
    "    print(current_datetime)\n",
    "    return current_datetime"
   ]
  },
  {
   "cell_type": "code",
   "execution_count": 6,
   "metadata": {},
   "outputs": [
    {
     "ename": "TypeError",
     "evalue": "Remote functions cannot be called directly. Instead of running '__main__.print_current_datetime()', try '__main__.print_current_datetime.remote()'.",
     "output_type": "error",
     "traceback": [
      "\u001b[0;31m---------------------------------------------------------------------------\u001b[0m",
      "\u001b[0;31mTypeError\u001b[0m                                 Traceback (most recent call last)",
      "\u001b[0;32m<ipython-input-6-ae4aa9a51285>\u001b[0m in \u001b[0;36m<module>\u001b[0;34m\u001b[0m\n\u001b[0;32m----> 1\u001b[0;31m \u001b[0mprint_current_datetime\u001b[0m\u001b[0;34m(\u001b[0m\u001b[0;34m)\u001b[0m\u001b[0;34m\u001b[0m\u001b[0;34m\u001b[0m\u001b[0m\n\u001b[0m",
      "\u001b[0;32m/usr/local/lib/python3.8/site-packages/ray/remote_function.py\u001b[0m in \u001b[0;36m__call__\u001b[0;34m(self, *args, **kwargs)\u001b[0m\n\u001b[1;32m    104\u001b[0m \u001b[0;34m\u001b[0m\u001b[0m\n\u001b[1;32m    105\u001b[0m     \u001b[0;32mdef\u001b[0m \u001b[0m__call__\u001b[0m\u001b[0;34m(\u001b[0m\u001b[0mself\u001b[0m\u001b[0;34m,\u001b[0m \u001b[0;34m*\u001b[0m\u001b[0margs\u001b[0m\u001b[0;34m,\u001b[0m \u001b[0;34m**\u001b[0m\u001b[0mkwargs\u001b[0m\u001b[0;34m)\u001b[0m\u001b[0;34m:\u001b[0m\u001b[0;34m\u001b[0m\u001b[0;34m\u001b[0m\u001b[0m\n\u001b[0;32m--> 106\u001b[0;31m         raise TypeError(\"Remote functions cannot be called directly. Instead \"\n\u001b[0m\u001b[1;32m    107\u001b[0m                         \u001b[0;34mf\"of running '{self._function_name}()', \"\u001b[0m\u001b[0;34m\u001b[0m\u001b[0;34m\u001b[0m\u001b[0m\n\u001b[1;32m    108\u001b[0m                         f\"try '{self._function_name}.remote()'.\")\n",
      "\u001b[0;31mTypeError\u001b[0m: Remote functions cannot be called directly. Instead of running '__main__.print_current_datetime()', try '__main__.print_current_datetime.remote()'."
     ]
    }
   ],
   "source": [
    "print_current_datetime()"
   ]
  },
  {
   "cell_type": "code",
   "execution_count": 7,
   "metadata": {},
   "outputs": [
    {
     "data": {
      "text/plain": [
       "ObjectRef(df5a1a828c9685d3ffffffff0100000001000000)"
      ]
     },
     "execution_count": 7,
     "metadata": {},
     "output_type": "execute_result"
    }
   ],
   "source": [
    "print_current_datetime.remote()"
   ]
  },
  {
   "cell_type": "code",
   "execution_count": 8,
   "metadata": {},
   "outputs": [
    {
     "name": "stdout",
     "output_type": "stream",
     "text": [
      "\u001b[2m\u001b[36m(pid=48463)\u001b[0m 2021-01-03 16:19:43.772704\n"
     ]
    },
    {
     "data": {
      "text/plain": [
       "ObjectRef(cb230a572350ff44ffffffff0100000001000000)"
      ]
     },
     "execution_count": 8,
     "metadata": {},
     "output_type": "execute_result"
    }
   ],
   "source": [
    "print_current_datetime.remote()"
   ]
  },
  {
   "cell_type": "code",
   "execution_count": 9,
   "metadata": {},
   "outputs": [
    {
     "data": {
      "text/plain": [
       "datetime.datetime(2021, 1, 3, 16, 19, 45, 521330)"
      ]
     },
     "execution_count": 9,
     "metadata": {},
     "output_type": "execute_result"
    }
   ],
   "source": [
    "ray.get(print_current_datetime.remote())"
   ]
  },
  {
   "cell_type": "code",
   "execution_count": 10,
   "metadata": {},
   "outputs": [],
   "source": [
    "futures = [print_current_datetime.remote() for i in range(4)]"
   ]
  },
  {
   "cell_type": "code",
   "execution_count": 11,
   "metadata": {},
   "outputs": [
    {
     "data": {
      "text/plain": [
       "[ObjectRef(bd37d2621480fc7dffffffff0100000001000000),\n",
       " ObjectRef(88866c7daffdd00effffffff0100000001000000),\n",
       " ObjectRef(d251967856448cebffffffff0100000001000000),\n",
       " ObjectRef(3bf0c856ace5a4d8ffffffff0100000001000000)]"
      ]
     },
     "execution_count": 11,
     "metadata": {},
     "output_type": "execute_result"
    }
   ],
   "source": [
    "futures"
   ]
  },
  {
   "cell_type": "code",
   "execution_count": 12,
   "metadata": {},
   "outputs": [
    {
     "data": {
      "text/plain": [
       "[datetime.datetime(2021, 1, 3, 16, 19, 45, 914563),\n",
       " datetime.datetime(2021, 1, 3, 16, 19, 45, 918836),\n",
       " datetime.datetime(2021, 1, 3, 16, 19, 45, 922183),\n",
       " datetime.datetime(2021, 1, 3, 16, 19, 45, 922189)]"
      ]
     },
     "execution_count": 12,
     "metadata": {},
     "output_type": "execute_result"
    }
   ],
   "source": [
    "ray.get(futures)"
   ]
  },
  {
   "cell_type": "markdown",
   "metadata": {},
   "source": [
    "### 8개의 프로세스에 분배"
   ]
  },
  {
   "cell_type": "code",
   "execution_count": 13,
   "metadata": {},
   "outputs": [
    {
     "data": {
      "text/plain": [
       "[datetime.datetime(2021, 1, 3, 16, 29, 39, 70585),\n",
       " datetime.datetime(2021, 1, 3, 16, 29, 39, 70669),\n",
       " datetime.datetime(2021, 1, 3, 16, 29, 39, 70591),\n",
       " datetime.datetime(2021, 1, 3, 16, 29, 39, 71314),\n",
       " datetime.datetime(2021, 1, 3, 16, 29, 39, 75197),\n",
       " datetime.datetime(2021, 1, 3, 16, 29, 39, 75207),\n",
       " datetime.datetime(2021, 1, 3, 16, 29, 39, 75598),\n",
       " datetime.datetime(2021, 1, 3, 16, 29, 39, 77875)]"
      ]
     },
     "execution_count": 13,
     "metadata": {},
     "output_type": "execute_result"
    }
   ],
   "source": [
    "futures = [print_current_datetime.remote() for i in range(8)]\n",
    "ray.get(futures)"
   ]
  },
  {
   "cell_type": "markdown",
   "metadata": {},
   "source": [
    "### 16개에 분배할 경우"
   ]
  },
  {
   "cell_type": "code",
   "execution_count": 14,
   "metadata": {},
   "outputs": [
    {
     "name": "stdout",
     "output_type": "stream",
     "text": [
      "\u001b[2m\u001b[36m(pid=48463)\u001b[0m 2021-01-03 16:30:49.442934\n",
      "\u001b[2m\u001b[36m(pid=48462)\u001b[0m 2021-01-03 16:30:49.442930\n",
      "\u001b[2m\u001b[36m(pid=48460)\u001b[0m 2021-01-03 16:30:49.443581\n",
      "\u001b[2m\u001b[36m(pid=48461)\u001b[0m 2021-01-03 16:30:49.442924\n",
      "\u001b[2m\u001b[36m(pid=48459)\u001b[0m 2021-01-03 16:30:49.442919\n",
      "\u001b[2m\u001b[36m(pid=48458)\u001b[0m 2021-01-03 16:30:49.442922\n",
      "\u001b[2m\u001b[36m(pid=48456)\u001b[0m 2021-01-03 16:30:49.442920\n",
      "\u001b[2m\u001b[36m(pid=48457)\u001b[0m 2021-01-03 16:30:49.442972\n"
     ]
    },
    {
     "data": {
      "text/plain": [
       "[datetime.datetime(2021, 1, 3, 16, 30, 49, 442920),\n",
       " datetime.datetime(2021, 1, 3, 16, 30, 49, 442972),\n",
       " datetime.datetime(2021, 1, 3, 16, 30, 49, 442919),\n",
       " datetime.datetime(2021, 1, 3, 16, 30, 49, 442922),\n",
       " datetime.datetime(2021, 1, 3, 16, 30, 49, 442924),\n",
       " datetime.datetime(2021, 1, 3, 16, 30, 49, 442934),\n",
       " datetime.datetime(2021, 1, 3, 16, 30, 49, 442930),\n",
       " datetime.datetime(2021, 1, 3, 16, 30, 49, 443581),\n",
       " datetime.datetime(2021, 1, 3, 16, 30, 49, 746647),\n",
       " datetime.datetime(2021, 1, 3, 16, 30, 49, 746647),\n",
       " datetime.datetime(2021, 1, 3, 16, 30, 49, 746650),\n",
       " datetime.datetime(2021, 1, 3, 16, 30, 49, 746647),\n",
       " datetime.datetime(2021, 1, 3, 16, 30, 49, 746666),\n",
       " datetime.datetime(2021, 1, 3, 16, 30, 49, 746666),\n",
       " datetime.datetime(2021, 1, 3, 16, 30, 49, 746666),\n",
       " datetime.datetime(2021, 1, 3, 16, 30, 49, 746742)]"
      ]
     },
     "execution_count": 14,
     "metadata": {},
     "output_type": "execute_result"
    }
   ],
   "source": [
    "futures = [print_current_datetime.remote() for i in range(16)]\n",
    "ray.get(futures)"
   ]
  },
  {
   "cell_type": "code",
   "execution_count": null,
   "metadata": {},
   "outputs": [],
   "source": []
  }
 ],
 "metadata": {
  "kernelspec": {
   "display_name": "Python 3",
   "language": "python",
   "name": "python3"
  },
  "varInspector": {
   "cols": {
    "lenName": 16,
    "lenType": 16,
    "lenVar": 40
   },
   "kernels_config": {
    "python": {
     "delete_cmd_postfix": "",
     "delete_cmd_prefix": "del ",
     "library": "var_list.py",
     "varRefreshCmd": "print(var_dic_list())"
    },
    "r": {
     "delete_cmd_postfix": ") ",
     "delete_cmd_prefix": "rm(",
     "library": "var_list.r",
     "varRefreshCmd": "cat(var_dic_list()) "
    }
   },
   "types_to_exclude": [
    "module",
    "function",
    "builtin_function_or_method",
    "instance",
    "_Feature"
   ],
   "window_display": false
  }
 },
 "nbformat": 4,
 "nbformat_minor": 4
}
